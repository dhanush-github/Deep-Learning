{
  "nbformat": 4,
  "nbformat_minor": 0,
  "metadata": {
    "colab": {
      "provenance": []
    },
    "kernelspec": {
      "name": "python3",
      "display_name": "Python 3"
    },
    "language_info": {
      "name": "python"
    }
  },
  "cells": [
    {
      "cell_type": "markdown",
      "source": [
        "An autoencoder is a type of neural network architecture designed for unsupervised learning. It consists of an encoder and a decoder, and its primary objective is to learn a compact representation of input data. The encoder compresses the input data into a lower-dimensional representation (encoding), and the decoder reconstructs the original input from this encoding. The training process involves minimizing the reconstruction error, typically measured using a loss function like Mean Squared Error (MSE)."
      ],
      "metadata": {
        "id": "9SmcwYqR3WXo"
      }
    },
    {
      "cell_type": "markdown",
      "source": [
        "Key Components:\n",
        "\n",
        "\n",
        "1.   Encoder: Maps input data to a compressed representation.\n",
        "2.   Decoder: Reconstructs the original input from the encoded  \n",
        "representation.\n",
        "\n",
        "\n",
        "\n"
      ],
      "metadata": {
        "id": "n1ssskSX3cxh"
      }
    },
    {
      "cell_type": "markdown",
      "source": [
        "Applications:\n",
        "\n",
        "1.Dimensionality reduction\n",
        "\n",
        "2.Data compression\n",
        "\n",
        "3.Anomaly detection\n",
        "\n",
        "4.Generative modeling"
      ],
      "metadata": {
        "id": "_8CUrVWn3zUM"
      }
    },
    {
      "cell_type": "code",
      "source": [
        "import numpy as np\n",
        "import matplotlib.pyplot as plt\n",
        "import tensorflow as tf\n",
        "from tensorflow.keras.layers import Input, Dense\n",
        "from tensorflow.keras.models import Model\n",
        "from tensorflow.keras.datasets import fashion_mnist"
      ],
      "metadata": {
        "id": "qCj_oq-p1WCY"
      },
      "execution_count": 1,
      "outputs": []
    },
    {
      "cell_type": "code",
      "source": [
        "# Load Fashion MNIST dataset\n",
        "(x_train, _), (x_test, _) = fashion_mnist.load_data()"
      ],
      "metadata": {
        "id": "3HUeqD441rKj"
      },
      "execution_count": 2,
      "outputs": []
    },
    {
      "cell_type": "code",
      "source": [
        "#x_train[0]"
      ],
      "metadata": {
        "id": "dYZZGV6K10Zs"
      },
      "execution_count": 3,
      "outputs": []
    },
    {
      "cell_type": "code",
      "source": [
        "# Normalize pixel values between 0 and 1\n",
        "x_train = x_train.astype('float32') / 255.0\n",
        "x_test = x_test.astype('float32') / 255.0"
      ],
      "metadata": {
        "id": "0cs_qmy41vfp"
      },
      "execution_count": 4,
      "outputs": []
    },
    {
      "cell_type": "code",
      "source": [
        "# Flatten the images\n",
        "x_train = x_train.reshape((len(x_train), np.prod(x_train.shape[1:])))\n",
        "x_test = x_test.reshape((len(x_test), np.prod(x_test.shape[1:])))"
      ],
      "metadata": {
        "id": "grkqFMC-1yaG"
      },
      "execution_count": 5,
      "outputs": []
    },
    {
      "cell_type": "code",
      "source": [
        "n = 10\n",
        "plt.figure(figsize=(20, 4))\n",
        "\n",
        "for i in range(n):\n",
        "    ax = plt.subplot(1, n, i + 1)\n",
        "    plt.imshow(x_train[i].reshape(28, 28))\n",
        "    plt.gray()\n",
        "    ax.get_xaxis().set_visible(False)\n",
        "    ax.get_yaxis().set_visible(False)\n",
        "\n",
        "plt.show()"
      ],
      "metadata": {
        "colab": {
          "base_uri": "https://localhost:8080/",
          "height": 131
        },
        "id": "r99sm6B22HFq",
        "outputId": "385337dc-0a56-401f-e76e-b6120150dde0"
      },
      "execution_count": 6,
      "outputs": [
        {
          "output_type": "display_data",
          "data": {
            "text/plain": [
              "<Figure size 2000x400 with 10 Axes>"
            ],
            "image/png": "[encoded data removed]"
          },
          "metadata": {}
        }
      ]
    },
    {
      "cell_type": "code",
      "source": [
        "tf.random.set_seed(91)\n",
        "np.random.seed(91)"
      ],
      "metadata": {
        "id": "Rf_VqAUz2Z3U"
      },
      "execution_count": 7,
      "outputs": []
    },
    {
      "cell_type": "markdown",
      "source": [
        "## Encoder Architecture"
      ],
      "metadata": {
        "id": "XY7GIoro2jvx"
      }
    },
    {
      "cell_type": "code",
      "source": [
        "# Define autoencoder architecture\n",
        "def build_autoencoder(input_dim, encoding_dim):\n",
        "    # Encoder\n",
        "    input_layer = Input(shape=(input_dim,))\n",
        "    encoded = Dense(encoding_dim, activation='relu')(input_layer)\n",
        "\n",
        "    # Decoder\n",
        "    decoded = Dense(input_dim, activation='sigmoid')(encoded)\n",
        "\n",
        "    # Build autoencoder model\n",
        "    autoencoder = Model(input_layer, decoded)\n",
        "    autoencoder.compile(optimizer='adam', loss='binary_crossentropy')\n",
        "\n",
        "    return autoencoder"
      ],
      "metadata": {
        "id": "p1owVo6m2izl"
      },
      "execution_count": 8,
      "outputs": []
    },
    {
      "cell_type": "code",
      "source": [
        "# Set parameters\n",
        "input_dim = 784  # 28x28 pixels flattened\n",
        "encoding_dim = 32  # Adjustable, determines size of encoded representation"
      ],
      "metadata": {
        "id": "txSADSLu2s5a"
      },
      "execution_count": 9,
      "outputs": []
    },
    {
      "cell_type": "code",
      "source": [
        "# Build autoencoder model\n",
        "autoencoder = build_autoencoder(input_dim, encoding_dim)"
      ],
      "metadata": {
        "id": "o76ObRLU2w33"
      },
      "execution_count": 10,
      "outputs": []
    },
    {
      "cell_type": "code",
      "source": [
        "# Train the autoencoder\n",
        "autoencoder.fit(x_train, x_train, epochs=50, batch_size=256, shuffle=True, validation_data=(x_test, x_test))"
      ],
      "metadata": {
        "colab": {
          "base_uri": "https://localhost:8080/"
        },
        "id": "acN_Lw7a2y2_",
        "outputId": "74bd7cde-288e-43c1-8708-cf854e1b16fb"
      },
      "execution_count": 11,
      "outputs": [
        {
          "output_type": "stream",
          "name": "stdout",
          "text": [
            "Epoch 1/50\n",
            "235/235 [==============================] - 6s 20ms/step - loss: 0.4133 - val_loss: 0.3436\n",
            "Epoch 2/50\n",
            "235/235 [==============================] - 6s 24ms/step - loss: 0.3278 - val_loss: 0.3197\n",
            "Epoch 3/50\n",
            "235/235 [==============================] - 4s 19ms/step - loss: 0.3116 - val_loss: 0.3084\n",
            "Epoch 4/50\n",
            "235/235 [==============================] - 4s 16ms/step - loss: 0.3022 - val_loss: 0.3007\n",
            "Epoch 5/50\n",
            "235/235 [==============================] - 2s 10ms/step - loss: 0.2957 - val_loss: 0.2954\n",
            "Epoch 6/50\n",
            "235/235 [==============================] - 3s 15ms/step - loss: 0.2915 - val_loss: 0.2922\n",
            "Epoch 7/50\n",
            "235/235 [==============================] - 2s 10ms/step - loss: 0.2890 - val_loss: 0.2902\n",
            "Epoch 8/50\n",
            "235/235 [==============================] - 2s 10ms/step - loss: 0.2874 - val_loss: 0.2889\n",
            "Epoch 9/50\n",
            "235/235 [==============================] - 2s 9ms/step - loss: 0.2863 - val_loss: 0.2880\n",
            "Epoch 10/50\n",
            "235/235 [==============================] - 2s 9ms/step - loss: 0.2855 - val_loss: 0.2874\n",
            "Epoch 11/50\n",
            "235/235 [==============================] - 3s 13ms/step - loss: 0.2850 - val_loss: 0.2869\n",
            "Epoch 12/50\n",
            "235/235 [==============================] - 3s 11ms/step - loss: 0.2845 - val_loss: 0.2865\n",
            "Epoch 13/50\n",
            "235/235 [==============================] - 2s 9ms/step - loss: 0.2842 - val_loss: 0.2862\n",
            "Epoch 14/50\n",
            "235/235 [==============================] - 2s 9ms/step - loss: 0.2839 - val_loss: 0.2860\n",
            "Epoch 15/50\n",
            "235/235 [==============================] - 2s 9ms/step - loss: 0.2836 - val_loss: 0.2858\n",
            "Epoch 16/50\n",
            "235/235 [==============================] - 2s 10ms/step - loss: 0.2834 - val_loss: 0.2859\n",
            "Epoch 17/50\n",
            "235/235 [==============================] - 3s 14ms/step - loss: 0.2832 - val_loss: 0.2858\n",
            "Epoch 18/50\n",
            "235/235 [==============================] - 2s 10ms/step - loss: 0.2831 - val_loss: 0.2852\n",
            "Epoch 19/50\n",
            "235/235 [==============================] - 2s 10ms/step - loss: 0.2830 - val_loss: 0.2851\n",
            "Epoch 20/50\n",
            "235/235 [==============================] - 2s 10ms/step - loss: 0.2828 - val_loss: 0.2851\n",
            "Epoch 21/50\n",
            "235/235 [==============================] - 2s 9ms/step - loss: 0.2827 - val_loss: 0.2849\n",
            "Epoch 22/50\n",
            "235/235 [==============================] - 3s 11ms/step - loss: 0.2826 - val_loss: 0.2848\n",
            "Epoch 23/50\n",
            "235/235 [==============================] - 3s 14ms/step - loss: 0.2825 - val_loss: 0.2848\n",
            "Epoch 24/50\n",
            "235/235 [==============================] - 2s 10ms/step - loss: 0.2825 - val_loss: 0.2847\n",
            "Epoch 25/50\n",
            "235/235 [==============================] - 2s 9ms/step - loss: 0.2824 - val_loss: 0.2846\n",
            "Epoch 26/50\n",
            "235/235 [==============================] - 2s 10ms/step - loss: 0.2823 - val_loss: 0.2845\n",
            "Epoch 27/50\n",
            "235/235 [==============================] - 2s 9ms/step - loss: 0.2822 - val_loss: 0.2845\n",
            "Epoch 28/50\n",
            "235/235 [==============================] - 3s 13ms/step - loss: 0.2822 - val_loss: 0.2845\n",
            "Epoch 29/50\n",
            "235/235 [==============================] - 3s 12ms/step - loss: 0.2821 - val_loss: 0.2845\n",
            "Epoch 30/50\n",
            "235/235 [==============================] - 2s 10ms/step - loss: 0.2821 - val_loss: 0.2844\n",
            "Epoch 31/50\n",
            "235/235 [==============================] - 2s 10ms/step - loss: 0.2820 - val_loss: 0.2845\n",
            "Epoch 32/50\n",
            "235/235 [==============================] - 2s 10ms/step - loss: 0.2820 - val_loss: 0.2845\n",
            "Epoch 33/50\n",
            "235/235 [==============================] - 2s 10ms/step - loss: 0.2820 - val_loss: 0.2843\n",
            "Epoch 34/50\n",
            "235/235 [==============================] - 3s 15ms/step - loss: 0.2819 - val_loss: 0.2842\n",
            "Epoch 35/50\n",
            "235/235 [==============================] - 2s 10ms/step - loss: 0.2819 - val_loss: 0.2842\n",
            "Epoch 36/50\n",
            "235/235 [==============================] - 2s 9ms/step - loss: 0.2819 - val_loss: 0.2842\n",
            "Epoch 37/50\n",
            "235/235 [==============================] - 2s 9ms/step - loss: 0.2818 - val_loss: 0.2842\n",
            "Epoch 38/50\n",
            "235/235 [==============================] - 2s 10ms/step - loss: 0.2818 - val_loss: 0.2842\n",
            "Epoch 39/50\n",
            "235/235 [==============================] - 3s 12ms/step - loss: 0.2818 - val_loss: 0.2841\n",
            "Epoch 40/50\n",
            "235/235 [==============================] - 3s 14ms/step - loss: 0.2818 - val_loss: 0.2841\n",
            "Epoch 41/50\n",
            "235/235 [==============================] - 2s 9ms/step - loss: 0.2817 - val_loss: 0.2840\n",
            "Epoch 42/50\n",
            "235/235 [==============================] - 2s 10ms/step - loss: 0.2817 - val_loss: 0.2840\n",
            "Epoch 43/50\n",
            "235/235 [==============================] - 2s 9ms/step - loss: 0.2817 - val_loss: 0.2841\n",
            "Epoch 44/50\n",
            "235/235 [==============================] - 2s 10ms/step - loss: 0.2817 - val_loss: 0.2840\n",
            "Epoch 45/50\n",
            "235/235 [==============================] - 3s 14ms/step - loss: 0.2816 - val_loss: 0.2841\n",
            "Epoch 46/50\n",
            "235/235 [==============================] - 2s 9ms/step - loss: 0.2816 - val_loss: 0.2840\n",
            "Epoch 47/50\n",
            "235/235 [==============================] - 2s 9ms/step - loss: 0.2816 - val_loss: 0.2839\n",
            "Epoch 48/50\n",
            "235/235 [==============================] - 2s 10ms/step - loss: 0.2816 - val_loss: 0.2839\n",
            "Epoch 49/50\n",
            "235/235 [==============================] - 2s 9ms/step - loss: 0.2815 - val_loss: 0.2839\n",
            "Epoch 50/50\n",
            "235/235 [==============================] - 2s 11ms/step - loss: 0.2815 - val_loss: 0.2839\n"
          ]
        },
        {
          "output_type": "execute_result",
          "data": {
            "text/plain": [
              "<keras.src.callbacks.History at 0x7b24fc7f3a60>"
            ]
          },
          "metadata": {},
          "execution_count": 11
        }
      ]
    },
    {
      "cell_type": "code",
      "source": [
        "# Encode and decode some images\n",
        "encoded_imgs = autoencoder.predict(x_test)\n",
        "decoded_imgs = autoencoder.predict(encoded_imgs)"
      ],
      "metadata": {
        "colab": {
          "base_uri": "https://localhost:8080/"
        },
        "id": "HdnH25Vh22Kc",
        "outputId": "20476218-1dfc-47bc-c4e6-e9c837302aeb"
      },
      "execution_count": 12,
      "outputs": [
        {
          "output_type": "stream",
          "name": "stdout",
          "text": [
            "313/313 [==============================] - 1s 1ms/step\n",
            "313/313 [==============================] - 1s 2ms/step\n"
          ]
        }
      ]
    },
    {
      "cell_type": "code",
      "source": [
        "# Plot original and reconstructed images\n",
        "n = 10  # Number of images to display\n",
        "plt.figure(figsize=(20, 4))\n",
        "\n",
        "for i in range(n):\n",
        "    # Original images\n",
        "    ax = plt.subplot(2, n, i + 1)\n",
        "    plt.imshow(x_test[i].reshape(28, 28))\n",
        "    plt.gray()\n",
        "    ax.get_xaxis().set_visible(False)\n",
        "    ax.get_yaxis().set_visible(False)\n",
        "\n",
        "    # Reconstructed images\n",
        "    ax = plt.subplot(2, n, i + 1 + n)\n",
        "    plt.imshow(decoded_imgs[i].reshape(28, 28))\n",
        "    plt.gray()\n",
        "    ax.get_xaxis().set_visible(False)\n",
        "    ax.get_yaxis().set_visible(False)\n",
        "\n",
        "plt.show()\n"
      ],
      "metadata": {
        "colab": {
          "base_uri": "https://localhost:8080/",
          "height": 258
        },
        "id": "72kYm6-J1Szq",
        "outputId": "d4c2d141-2085-49d0-9091-b3e47153d491"
      },
      "execution_count": 13,
      "outputs": [
        {
          "output_type": "display_data",
          "data": {
            "text/plain": [
              "<Figure size 2000x400 with 20 Axes>"
            ],
            "image/png": "[encoded data removed]"
          },
          "metadata": {}
        }
      ]
    }
  ]
}